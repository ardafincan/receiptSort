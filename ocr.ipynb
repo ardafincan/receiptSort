{
 "cells": [
  {
   "cell_type": "code",
   "execution_count": 1,
   "id": "221c721e",
   "metadata": {},
   "outputs": [],
   "source": [
    "import fitz  \n",
    "import re\n",
    "import os\n",
    "import locale\n",
    "from pypdf import PdfMerger, PdfReader, PdfWriter"
   ]
  },
  {
   "cell_type": "code",
   "execution_count": 2,
   "id": "43beb291",
   "metadata": {},
   "outputs": [
    {
     "name": "stderr",
     "output_type": "stream",
     "text": [
      "/var/folders/kk/5xrp47rn3bs_xvsfb0wsvk9c0000gn/T/ipykernel_638/3328896720.py:1: DeprecationWarning: PdfMerger is deprecated and will be removed in pypdf 5.0.0. Use PdfWriter instead.\n",
      "  merger = PdfMerger()\n"
     ]
    }
   ],
   "source": [
    "merger = PdfMerger()\n",
    "\n",
    "pdf_folder = \"./input_pdfs\"\n",
    "\n",
    "pdf_files = sorted(f for f in os.listdir(pdf_folder) if f.endswith(\".pdf\"))\n",
    "\n",
    "for filename in pdf_files:\n",
    "    filepath = os.path.join(pdf_folder, filename)\n",
    "    merger.append(filepath)\n",
    "\n",
    "with open(\"merged_receipts.pdf\", \"wb\") as f:\n",
    "    merger.write(f)"
   ]
  },
  {
   "cell_type": "code",
   "execution_count": 3,
   "id": "efea9f0a",
   "metadata": {},
   "outputs": [],
   "source": [
    "def find_name(text):\n",
    "    try: \n",
    "        beginning = text.find(\"\\nSoyadı\\xa0/\\xa0Ünvanı\\n:\\n\")\n",
    "        end = text.find(\"\\nAdı\\n:\\n\")\n",
    "        \n",
    "        return text[beginning + 19:end]\n",
    "    except:\n",
    "        return \"Null\""
   ]
  },
  {
   "cell_type": "code",
   "execution_count": 4,
   "id": "f2d5e080",
   "metadata": {},
   "outputs": [],
   "source": [
    "global_page_number = 0\n",
    "doc = fitz.open(\"merged_receipts.pdf\")\n",
    "pages = []\n",
    "for page in doc:\n",
    "    \n",
    "    receiver_name = find_name(page.get_text())\n",
    "    page = {\n",
    "       \"page_number\": global_page_number,\n",
    "       \"page_text\": page.get_text(\"text\"),\n",
    "       \"receiver\": receiver_name\n",
    "    }\n",
    "    pages.append(page)\n",
    "    global_page_number += 1"
   ]
  },
  {
   "cell_type": "code",
   "execution_count": 5,
   "id": "847a3bc0",
   "metadata": {},
   "outputs": [],
   "source": [
    "locale.setlocale(locale.LC_COLLATE, 'tr_TR.UTF-8')\n",
    "\n",
    "def sort_pages(pages):\n",
    "    return sorted(pages, key=lambda p: locale.strxfrm(p['receiver']))"
   ]
  },
  {
   "cell_type": "code",
   "execution_count": 6,
   "id": "04e40419",
   "metadata": {},
   "outputs": [
    {
     "ename": "",
     "evalue": "",
     "output_type": "error",
     "traceback": [
      "\u001b[1;31mThe Kernel crashed while executing code in the current cell or a previous cell. \n",
      "\u001b[1;31mPlease review the code in the cell(s) to identify a possible cause of the failure. \n",
      "\u001b[1;31mClick <a href='https://aka.ms/vscodeJupyterKernelCrash'>here</a> for more info. \n",
      "\u001b[1;31mView Jupyter <a href='command:jupyter.viewOutput'>log</a> for further details."
     ]
    }
   ],
   "source": [
    "sorted_pages = sort_pages(pages)\n",
    "page_order = []\n",
    "\n",
    "for page in sorted_pages:\n",
    "    page_order.append(page['page_number'])\n",
    "\n",
    "reader = PdfReader(\"merged_receipts.pdf\")\n",
    "writer = PdfWriter()\n",
    "\n",
    "for i in page_order:\n",
    "    writer.add_page(reader.pages[i])\n",
    "    \n",
    "with open(\"reordered_output.pdf\", \"wb\") as f:\n",
    "    writer.write(f)"
   ]
  }
 ],
 "metadata": {
  "kernelspec": {
   "display_name": "Python 3",
   "language": "python",
   "name": "python3"
  },
  "language_info": {
   "codemirror_mode": {
    "name": "ipython",
    "version": 3
   },
   "file_extension": ".py",
   "mimetype": "text/x-python",
   "name": "python",
   "nbconvert_exporter": "python",
   "pygments_lexer": "ipython3",
   "version": "3.12.5"
  }
 },
 "nbformat": 4,
 "nbformat_minor": 5
}
